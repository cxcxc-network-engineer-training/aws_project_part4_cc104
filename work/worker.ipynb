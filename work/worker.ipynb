{
 "cells": [
  {
   "cell_type": "code",
   "execution_count": 2,
   "metadata": {},
   "outputs": [],
   "source": [
    "# 引用設定\n",
    "import variable\n",
    "\n",
    "# 服務名稱\n",
    "bucketName = variable.bucketName\n",
    "queueName = variable.queueName\n",
    "tableName = variable.tableName\n",
    "\n",
    "# 服務連線\n",
    "s3_resource = variable.s3_resource\n",
    "sqs_client = variable.sqs_client\n",
    "dynamoDB_resource = variable.dynamoDB_resource\n",
    "\n",
    "# 使用的參數\n",
    "# http://s3.vcloudlab.pro:4569/s3/vcloudlab_bucket/\n",
    "baseUrl = variable.baseURL"
   ]
  },
  {
   "cell_type": "code",
   "execution_count": 3,
   "metadata": {},
   "outputs": [],
   "source": [
    "# 創建 s3 Bucket\n",
    "s3_resource.create_bucket( Bucket = bucketName )\n",
    "\n",
    "# 創建 sqs Long Polling Queue\n",
    "sqs_client.create_queue( \n",
    "    QueueName = queueName,\n",
    "    Attributes = {'ReceiveMessageWaitTimeSeconds': '20'}\n",
    ")\n",
    "\n",
    "# 創建 DynamoDB Table\n",
    "vlabTable = dynamoDB_resource.create_table(\n",
    "    TableName = tableName,\n",
    "    \n",
    "    KeySchema = [\n",
    "      {\n",
    "          'AttributeName': 'id',\n",
    "          'KeyType': 'HASH'\n",
    "      },\n",
    "        \n",
    "    ],\n",
    "    \n",
    "    AttributeDefinitions = [\n",
    "      {\n",
    "          'AttributeName': 'id',\n",
    "          'AttributeType': 'S'\n",
    "      },\n",
    "    ],\n",
    "    \n",
    "    ProvisionedThroughput = {\n",
    "        'ReadCapacityUnits': 5,\n",
    "        'WriteCapacityUnits': 5\n",
    "    }\n",
    ")\n",
    "vlabTable.meta.client.get_waiter('table_exists').wait(TableName=tableName)"
   ]
  },
  {
   "cell_type": "code",
   "execution_count": 4,
   "metadata": {},
   "outputs": [
    {
     "name": "stdout",
     "output_type": "stream",
     "text": [
      "http://sqs.vcloudlab.pro:9324/queue/vcloudlab_sqs_queue\n",
      "dynamodb.Table(name='vcloudlab_picture')\n"
     ]
    }
   ],
   "source": [
    "# 若是創建過服務就直接調用\n",
    "# 調用 SQS\n",
    "vlabQueues = sqs_client.list_queues( QueueNamePrefix = queueName )\n",
    "queue_url = vlabQueues['QueueUrls'][0]\n",
    "print(queue_url)\n",
    "\n",
    "# 調用 dynamoDB Table\n",
    "vlabTable = dynamoDB_resource.Table(tableName)\n",
    "print(vlabTable)"
   ]
  },
  {
   "cell_type": "code",
   "execution_count": null,
   "metadata": {},
   "outputs": [
    {
     "name": "stdout",
     "output_type": "stream",
     "text": [
      "Queue is now empty\n",
      "Queue is now empty\n",
      "Queue is now empty\n",
      "Queue is now empty\n",
      "Queue is now empty\n",
      "Queue is now empty\n",
      "Queue is now empty\n",
      "Queue is now empty\n"
     ]
    }
   ],
   "source": [
    "import datetime\n",
    "# 透過 SQS  將 filename 抓取\n",
    "while True:\n",
    "    messages = sqs_client.receive_message(\n",
    "        QueueUrl = queue_url,\n",
    "        MaxNumberOfMessages = 1,\n",
    "        WaitTimeSeconds = 20\n",
    "    )\n",
    "\n",
    "    if 'Messages' in messages:\n",
    "        for message in messages['Messages']: \n",
    "#             print(message['Body'])\n",
    "            filename = message['Body']\n",
    "            # 先判斷目前的 id\n",
    "            getId = vlabTable.item_count\n",
    "            setId = getId+1\n",
    "            print(filename + \":\"+str(setId))\n",
    "            # 將取得的 filename 存入 dynamodb\n",
    "            time = datetime.datetime.utcnow().strftime(\"%Y-%m-%d %H:%M:%S\")\n",
    "            vlabTable.put_item(\n",
    "                Item = {\n",
    "                    'id': str(setId),\n",
    "                    'datetime': str(time),\n",
    "                    'fileurl': str(baseUrl)+str(filename),\n",
    "                    'filename': str(filename),\n",
    "                }\n",
    "            )\n",
    "\n",
    "            sqs_client.delete_message(\n",
    "                QueueUrl = queue_url,\n",
    "                ReceiptHandle=message['ReceiptHandle']\n",
    "            )\n",
    "    else:\n",
    "        print('Queue is now empty')\n",
    "        #break"
   ]
  },
  {
   "cell_type": "code",
   "execution_count": null,
   "metadata": {},
   "outputs": [],
   "source": [
    "response = vlabTable.get_item(\n",
    "    Key = {\n",
    "        'id': '1',\n",
    "    }\n",
    ")\n",
    "\n",
    "item = response['Item']\n",
    "print(item)"
   ]
  },
  {
   "cell_type": "code",
   "execution_count": 5,
   "metadata": {},
   "outputs": [
    {
     "data": {
      "text/plain": [
       "{'ResponseMetadata': {'RequestId': '00000000-0000-0000-0000-000000000000',\n",
       "  'HTTPStatusCode': 200,\n",
       "  'HTTPHeaders': {'server': 'akka-http/10.0.2',\n",
       "   'date': 'Mon, 28 Jan 2019 05:28:11 GMT',\n",
       "   'content-type': 'text/plain; charset=UTF-8',\n",
       "   'content-length': '264'},\n",
       "  'RetryAttempts': 0}}"
      ]
     },
     "execution_count": 5,
     "metadata": {},
     "output_type": "execute_result"
    }
   ],
   "source": [
    "sqs_client.set_queue_attributes(\n",
    "    QueueUrl = queue_url,\n",
    "    Attributes = {'ReceiveMessageWaitTimeSeconds': '20'}\n",
    ")"
   ]
  },
  {
   "cell_type": "code",
   "execution_count": 19,
   "metadata": {},
   "outputs": [
    {
     "name": "stdout",
     "output_type": "stream",
     "text": [
      "104\n"
     ]
    }
   ],
   "source": [
    "\n",
    "res = dynamoDB_resource.Table('vcloudlab_picture').scan(AttributesToGet=['id','filename','datetime'])\n",
    "print(res['Count'])"
   ]
  },
  {
   "cell_type": "code",
   "execution_count": 20,
   "metadata": {},
   "outputs": [
    {
     "name": "stdout",
     "output_type": "stream",
     "text": [
      "{'Count': 104,\n",
      " 'Items': [{'datetime': '2019-01-29 14:35:40', 'filename': '3.jpg', 'id': '49'},\n",
      "           {'datetime': '2019-01-29 14:32:20', 'filename': '1.jpg', 'id': '31'},\n",
      "           {'datetime': '2019-01-29 14:36:23', 'filename': '3.jpg', 'id': '90'},\n",
      "           {'datetime': '2019-01-29 14:32:20', 'filename': '1.jpg', 'id': '29'},\n",
      "           {'datetime': '2019-01-29 14:36:20', 'filename': '4.jpg', 'id': '84'},\n",
      "           {'datetime': '2019-01-29 14:35:28', 'filename': '3.jpg', 'id': '42'},\n",
      "           {'datetime': '2019-01-29 14:36:29',\n",
      "            'filename': '3.jpg',\n",
      "            'id': '101'},\n",
      "           {'datetime': '2019-01-29 14:32:11', 'filename': '1.jpg', 'id': '9'},\n",
      "           {'datetime': '2019-01-29 14:35:28', 'filename': '3.jpg', 'id': '44'},\n",
      "           {'datetime': '2019-01-29 14:32:16', 'filename': '1.jpg', 'id': '21'},\n",
      "           {'datetime': '2019-01-29 14:32:12', 'filename': '1.jpg', 'id': '12'},\n",
      "           {'datetime': '2019-01-29 14:36:15', 'filename': '4.jpg', 'id': '72'},\n",
      "           {'datetime': '2019-01-29 14:36:11', 'filename': '3.jpg', 'id': '66'},\n",
      "           {'datetime': '2019-01-29 14:35:23', 'filename': '3.jpg', 'id': '40'},\n",
      "           {'datetime': '2019-01-29 14:20:07', 'filename': '1.jpg', 'id': '1'},\n",
      "           {'datetime': '2019-01-29 14:32:14', 'filename': '1.jpg', 'id': '14'},\n",
      "           {'datetime': '2019-01-29 14:36:24', 'filename': '3.jpg', 'id': '92'},\n",
      "           {'datetime': '2019-01-29 14:32:13', 'filename': '1.jpg', 'id': '13'},\n",
      "           {'datetime': '2019-01-29 14:36:06', 'filename': '3.jpg', 'id': '57'},\n",
      "           {'datetime': '2019-01-29 14:32:22', 'filename': '1.jpg', 'id': '33'},\n",
      "           {'datetime': '2019-01-29 14:36:30',\n",
      "            'filename': '3.jpg',\n",
      "            'id': '103'},\n",
      "           {'datetime': '2019-01-29 14:32:19', 'filename': '1.jpg', 'id': '27'},\n",
      "           {'datetime': '2019-01-29 14:36:12', 'filename': '4.jpg', 'id': '68'},\n",
      "           {'datetime': '2019-01-29 14:36:18', 'filename': '3.jpg', 'id': '81'},\n",
      "           {'datetime': '2019-01-29 14:32:23', 'filename': '1.jpg', 'id': '37'},\n",
      "           {'datetime': '2019-01-29 14:36:04', 'filename': '4.jpg', 'id': '53'},\n",
      "           {'datetime': '2019-01-29 14:36:17', 'filename': '3.jpg', 'id': '77'},\n",
      "           {'datetime': '2019-01-29 14:36:27', 'filename': '3.jpg', 'id': '98'},\n",
      "           {'datetime': '2019-01-29 14:36:11', 'filename': '4.jpg', 'id': '65'},\n",
      "           {'datetime': '2019-01-29 14:32:20', 'filename': '1.jpg', 'id': '30'},\n",
      "           {'datetime': '2019-01-29 14:32:15', 'filename': '1.jpg', 'id': '18'},\n",
      "           {'datetime': '2019-01-29 14:36:12', 'filename': '3.jpg', 'id': '67'},\n",
      "           {'datetime': '2019-01-29 14:36:05', 'filename': '3.jpg', 'id': '54'},\n",
      "           {'datetime': '2019-01-29 14:32:09', 'filename': '1.jpg', 'id': '4'},\n",
      "           {'datetime': '2019-01-29 14:36:09', 'filename': '3.jpg', 'id': '62'},\n",
      "           {'datetime': '2019-01-29 14:35:24', 'filename': '4.jpg', 'id': '41'},\n",
      "           {'datetime': '2019-01-29 14:32:14', 'filename': '1.jpg', 'id': '16'},\n",
      "           {'datetime': '2019-01-29 14:36:17', 'filename': '4.jpg', 'id': '78'},\n",
      "           {'datetime': '2019-01-29 14:36:20', 'filename': '3.jpg', 'id': '83'},\n",
      "           {'datetime': '2019-01-29 14:36:16', 'filename': '4.jpg', 'id': '76'},\n",
      "           {'datetime': '2019-01-29 14:36:29',\n",
      "            'filename': '4.jpg',\n",
      "            'id': '102'},\n",
      "           {'datetime': '2019-01-29 14:36:13', 'filename': '3.jpg', 'id': '70'},\n",
      "           {'datetime': '2019-01-29 14:36:07', 'filename': '3.jpg', 'id': '60'},\n",
      "           {'datetime': '2019-01-29 14:32:09', 'filename': '1.jpg', 'id': '3'},\n",
      "           {'datetime': '2019-01-29 14:32:17', 'filename': '1.jpg', 'id': '22'},\n",
      "           {'datetime': '2019-01-29 14:36:21', 'filename': '3.jpg', 'id': '86'},\n",
      "           {'datetime': '2019-01-29 14:36:24', 'filename': '4.jpg', 'id': '93'},\n",
      "           {'datetime': '2019-01-29 14:32:09', 'filename': '1.jpg', 'id': '5'},\n",
      "           {'datetime': '2019-01-29 14:32:12', 'filename': '1.jpg', 'id': '11'},\n",
      "           {'datetime': '2019-01-29 14:36:16', 'filename': '3.jpg', 'id': '75'},\n",
      "           {'datetime': '2019-01-29 14:36:07', 'filename': '4.jpg', 'id': '59'},\n",
      "           {'datetime': '2019-01-29 14:36:15', 'filename': '3.jpg', 'id': '73'},\n",
      "           {'datetime': '2019-01-29 14:36:18', 'filename': '4.jpg', 'id': '80'},\n",
      "           {'datetime': '2019-01-29 14:32:18', 'filename': '1.jpg', 'id': '24'},\n",
      "           {'datetime': '2019-01-29 14:36:18', 'filename': '3.jpg', 'id': '79'},\n",
      "           {'datetime': '2019-01-29 14:32:15', 'filename': '1.jpg', 'id': '17'},\n",
      "           {'datetime': '2019-01-29 14:32:19', 'filename': '1.jpg', 'id': '28'},\n",
      "           {'datetime': '2019-01-29 14:36:22', 'filename': '3.jpg', 'id': '88'},\n",
      "           {'datetime': '2019-01-29 14:36:25', 'filename': '4.jpg', 'id': '95'},\n",
      "           {'datetime': '2019-01-29 14:32:24', 'filename': '1.jpg', 'id': '38'},\n",
      "           {'datetime': '2019-01-29 14:36:05', 'filename': '4.jpg', 'id': '56'},\n",
      "           {'datetime': '2019-01-29 14:36:04', 'filename': '4.jpg', 'id': '52'},\n",
      "           {'datetime': '2019-01-29 14:32:17', 'filename': '1.jpg', 'id': '23'},\n",
      "           {'datetime': '2019-01-29 14:36:22', 'filename': '4.jpg', 'id': '87'},\n",
      "           {'datetime': '2019-01-29 14:36:14', 'filename': '3.jpg', 'id': '71'},\n",
      "           {'datetime': '2019-01-29 14:35:28', 'filename': '3.jpg', 'id': '45'},\n",
      "           {'datetime': '2019-01-29 14:36:28',\n",
      "            'filename': '4.jpg',\n",
      "            'id': '100'},\n",
      "           {'datetime': '2019-01-29 14:36:23', 'filename': '4.jpg', 'id': '89'},\n",
      "           {'datetime': '2019-01-29 14:36:24', 'filename': '4.jpg', 'id': '91'},\n",
      "           {'datetime': '2019-01-29 14:32:22', 'filename': '1.jpg', 'id': '34'},\n",
      "           {'datetime': '2019-01-29 14:36:26', 'filename': '3.jpg', 'id': '97'},\n",
      "           {'datetime': '2019-01-29 14:32:15', 'filename': '1.jpg', 'id': '19'},\n",
      "           {'datetime': '2019-01-29 14:32:10', 'filename': '1.jpg', 'id': '7'},\n",
      "           {'datetime': '2019-01-29 14:32:14', 'filename': '1.jpg', 'id': '15'},\n",
      "           {'datetime': '2019-01-29 14:36:08', 'filename': '3.jpg', 'id': '61'},\n",
      "           {'datetime': '2019-01-29 14:36:02', 'filename': '4.jpg', 'id': '51'},\n",
      "           {'datetime': '2019-01-29 14:35:46', 'filename': '3.jpg', 'id': '50'},\n",
      "           {'datetime': '2019-01-29 14:36:16', 'filename': '4.jpg', 'id': '74'},\n",
      "           {'datetime': '2019-01-29 14:32:22', 'filename': '1.jpg', 'id': '35'},\n",
      "           {'datetime': '2019-01-29 14:32:16', 'filename': '1.jpg', 'id': '20'},\n",
      "           {'datetime': '2019-01-29 14:32:11', 'filename': '1.jpg', 'id': '10'},\n",
      "           {'datetime': '2019-01-29 14:36:26', 'filename': '4.jpg', 'id': '96'},\n",
      "           {'datetime': '2019-01-29 14:35:28', 'filename': '3.jpg', 'id': '43'},\n",
      "           {'datetime': '2019-01-29 14:36:10', 'filename': '4.jpg', 'id': '63'},\n",
      "           {'datetime': '2019-01-29 14:32:18', 'filename': '1.jpg', 'id': '25'},\n",
      "           {'datetime': '2019-01-29 14:32:07', 'filename': '1.jpg', 'id': '2'},\n",
      "           {'datetime': '2019-01-29 14:32:10', 'filename': '1.jpg', 'id': '6'},\n",
      "           {'datetime': '2019-01-29 14:36:19', 'filename': '3.jpg', 'id': '82'},\n",
      "           {'datetime': '2019-01-29 14:36:30',\n",
      "            'filename': '4.jpg',\n",
      "            'id': '104'},\n",
      "           {'datetime': '2019-01-29 14:35:29', 'filename': '4.jpg', 'id': '46'},\n",
      "           {'datetime': '2019-01-29 14:32:11', 'filename': '1.jpg', 'id': '8'},\n",
      "           {'datetime': '2019-01-29 14:36:25', 'filename': '3.jpg', 'id': '94'},\n",
      "           {'datetime': '2019-01-29 14:36:06', 'filename': '4.jpg', 'id': '58'},\n",
      "           {'datetime': '2019-01-29 14:36:13', 'filename': '4.jpg', 'id': '69'},\n",
      "           {'datetime': '2019-01-29 14:32:23', 'filename': '1.jpg', 'id': '36'},\n",
      "           {'datetime': '2019-01-29 14:36:20', 'filename': '3.jpg', 'id': '85'},\n",
      "           {'datetime': '2019-01-29 14:35:29', 'filename': '4.jpg', 'id': '47'},\n",
      "           {'datetime': '2019-01-29 14:36:28', 'filename': '3.jpg', 'id': '99'},\n",
      "           {'datetime': '2019-01-29 14:35:35', 'filename': '3.jpg', 'id': '48'},\n",
      "           {'datetime': '2019-01-29 14:32:21', 'filename': '1.jpg', 'id': '32'},\n",
      "           {'datetime': '2019-01-29 14:36:05', 'filename': '4.jpg', 'id': '55'},\n",
      "           {'datetime': '2019-01-29 14:32:24', 'filename': '1.jpg', 'id': '39'},\n",
      "           {'datetime': '2019-01-29 14:32:19', 'filename': '1.jpg', 'id': '26'},\n",
      "           {'datetime': '2019-01-29 14:36:10',\n",
      "            'filename': '4.jpg',\n",
      "            'id': '64'}],\n",
      " 'ResponseMetadata': {'HTTPHeaders': {'content-length': '8566',\n",
      "                                      'content-type': 'application/x-amz-json-1.0',\n",
      "                                      'server': 'Jetty(8.1.12.v20130726)',\n",
      "                                      'x-amz-crc32': '748198432',\n",
      "                                      'x-amzn-requestid': '9c5be00c-8490-4ae2-8dd7-46dac62856c9'},\n",
      "                      'HTTPStatusCode': 200,\n",
      "                      'RequestId': '9c5be00c-8490-4ae2-8dd7-46dac62856c9',\n",
      "                      'RetryAttempts': 0},\n",
      " 'ScannedCount': 104}\n"
     ]
    }
   ],
   "source": [
    "import pprint\n",
    "pprint.pprint(res)"
   ]
  }
 ],
 "metadata": {
  "kernelspec": {
   "display_name": "Python 3",
   "language": "python",
   "name": "python3"
  },
  "language_info": {
   "codemirror_mode": {
    "name": "ipython",
    "version": 3
   },
   "file_extension": ".py",
   "mimetype": "text/x-python",
   "name": "python",
   "nbconvert_exporter": "python",
   "pygments_lexer": "ipython3",
   "version": "3.7.1"
  }
 },
 "nbformat": 4,
 "nbformat_minor": 2
}
