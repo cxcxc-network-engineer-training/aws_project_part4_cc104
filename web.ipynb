{
 "cells": [
  {
   "cell_type": "code",
   "execution_count": 1,
   "metadata": {},
   "outputs": [],
   "source": [
    "# 引用設定\n",
    "import variable\n",
    "\n",
    "# 服務名稱\n",
    "bucketName = variable.bucketName\n",
    "queueName = variable.queueName\n",
    "\n",
    "# 服務連線\n",
    "s3_resource = variable.s3_resource\n",
    "sqs_client = variable.sqs_client"
   ]
  },
  {
   "cell_type": "code",
   "execution_count": 3,
   "metadata": {},
   "outputs": [
    {
     "data": {
      "text/plain": [
       "s3.Bucket(name='vcloudlab_bucket')"
      ]
     },
     "execution_count": 3,
     "metadata": {},
     "output_type": "execute_result"
    }
   ],
   "source": [
    "# 創建 s3 Bucket\n",
    "s3_resource.create_bucket( Bucket = bucketName )"
   ]
  },
  {
   "cell_type": "code",
   "execution_count": 4,
   "metadata": {},
   "outputs": [
    {
     "data": {
      "text/plain": [
       "{'QueueUrl': 'http://sqs.vcloudlab.pro:9324/queue/vcloudlab_sqs_queue',\n",
       " 'ResponseMetadata': {'RequestId': '00000000-0000-0000-0000-000000000000',\n",
       "  'HTTPStatusCode': 200,\n",
       "  'HTTPHeaders': {'server': 'akka-http/10.0.2',\n",
       "   'date': 'Mon, 28 Jan 2019 09:24:08 GMT',\n",
       "   'content-type': 'text/plain; charset=UTF-8',\n",
       "   'content-length': '440'},\n",
       "  'RetryAttempts': 0}}"
      ]
     },
     "execution_count": 4,
     "metadata": {},
     "output_type": "execute_result"
    }
   ],
   "source": [
    "# 創建 sqs Queue\n",
    "sqs_client.create_queue( \n",
    "    QueueName = queueName,\n",
    ")"
   ]
  },
  {
   "cell_type": "code",
   "execution_count": 5,
   "metadata": {},
   "outputs": [
    {
     "name": "stdout",
     "output_type": "stream",
     "text": [
      "http://sqs.vcloudlab.pro:9324/queue/vcloudlab_sqs_queue\n"
     ]
    }
   ],
   "source": [
    "# 調用 SQS\n",
    "vlabQueues = sqs_client.list_queues( QueueNamePrefix = queueName )\n",
    "queue_url = vlabQueues['QueueUrls'][0]\n",
    "print(queue_url)"
   ]
  },
  {
   "cell_type": "code",
   "execution_count": 29,
   "metadata": {},
   "outputs": [
    {
     "name": "stdout",
     "output_type": "stream",
     "text": [
      " * Serving Flask app \"__main__\" (lazy loading)\n",
      " * Environment: production\n",
      "   WARNING: Do not use the development server in a production environment.\n",
      "   Use a production WSGI server instead.\n",
      " * Debug mode: off\n"
     ]
    },
    {
     "name": "stderr",
     "output_type": "stream",
     "text": [
      " * Running on http://0.0.0.0:5000/ (Press CTRL+C to quit)\n",
      "192.168.111.1 - - [28/Jan/2019 11:30:27] \"GET / HTTP/1.1\" 200 -\n",
      "192.168.111.1 - - [28/Jan/2019 11:30:28] \"POST / HTTP/1.1\" 400 -\n",
      "192.168.111.1 - - [28/Jan/2019 11:30:31] \"POST / HTTP/1.1\" 400 -\n"
     ]
    }
   ],
   "source": [
    "# 用 flask 建立上傳環境\n",
    "import os\n",
    "import datetime\n",
    "from flask import Flask, flash, request, redirect, url_for\n",
    "from werkzeug.utils import secure_filename\n",
    "from variable import send_message\n",
    "\n",
    "UPLOAD_FOLDER = '/home/jovyan/work/pic/'\n",
    "ALLOWED_EXTENSIONS = set(['txt', 'pdf', 'png', 'jpg', 'jpeg', 'gif'])\n",
    "app = Flask(__name__)\n",
    "app.config['UPLOAD_FOLDER'] = UPLOAD_FOLDER\n",
    "app.config['SECRET_KEY'] = 'chickenleg'\n",
    "\n",
    "# 解析檔案名稱\n",
    "def allowed_file(filename):\n",
    "    return '.' in filename and \\\n",
    "           filename.rsplit('.', 1)[1].lower() in ALLOWED_EXTENSIONS\n",
    "\n",
    "# 建立轉址位址\n",
    "from flask import send_from_directory\n",
    "\n",
    "@app.route('/uploads/<filename>')\n",
    "def uploaded_file(filename):\n",
    "    return send_from_directory(app.config['UPLOAD_FOLDER'],\n",
    "                               filename)\n",
    "\n",
    "@app.route('/test')\n",
    "def test():\n",
    "    return \"我是測試的\"\n",
    "\n",
    "# 建立上傳網址\n",
    "@app.route('/', methods=['GET', 'POST'])\n",
    "def upload_file():\n",
    "    if request.method == 'POST':\n",
    "        # check if the post request has the file part\n",
    "        #if 'file' not in request.files:\n",
    "        #    flash('No file part')\n",
    "        #    return redirect(request.url)\n",
    "        file = request.files['file']\n",
    "        # if user does not select file, browser also\n",
    "        # submit an empty part without filename\n",
    "        if file.filename == '':\n",
    "            flash('No selected file')\n",
    "            return redirect(request.url)\n",
    "        if file and allowed_file(file.filename):\n",
    "            filename = secure_filename(file.filename)\n",
    "            # 儲存在 jupyter 本地端\n",
    "            file.save(os.path.join(app.config['UPLOAD_FOLDER'], filename))\n",
    "            \n",
    "            # 上傳到 S3\n",
    "            s3_resource.meta.client.upload_file(\n",
    "                '/home/jovyan/work/pic/'+str(filename), \n",
    "                bucketName, \n",
    "                str(filename)\n",
    "            )\n",
    "            \n",
    "            # 將 filename 透過 SQS 傳輸\n",
    "            send_message(filename)\n",
    "            \n",
    "            #enqueue_response = sqs_client.send_message(\n",
    "            #    QueueUrl = queue_url, \n",
    "            #    MessageBody = filename\n",
    "            #)\n",
    "            #print('Message ID : ',enqueue_response['MessageId'])\n",
    "            \n",
    "            return \"上傳成功\"\n",
    "            #return redirect(request.url)\n",
    "            #return redirect(\n",
    "            #    url_for('uploaded_file',\n",
    "            #            filename = filename)\n",
    "            #)\n",
    "           \n",
    "    return '''\n",
    "    <!doctype html>\n",
    "    <title>Web Application Demo</title>\n",
    "    <h1>Upload new File</h1>\n",
    "    <form method=post enctype=multipart/form-data>\n",
    "      <input type=file name=file>\n",
    "      <input type=submit value=Upload>\n",
    "    </form>\n",
    "    '''\n",
    "\n",
    "\n",
    "# 啟動 flask\n",
    "app.run(host='0.0.0.0')"
   ]
  },
  {
   "cell_type": "code",
   "execution_count": null,
   "metadata": {},
   "outputs": [],
   "source": [
    "# delete test queue\n",
    "sqs_client.delete_queue( QueueUrl = queue_url )"
   ]
  },
  {
   "cell_type": "code",
   "execution_count": null,
   "metadata": {},
   "outputs": [],
   "source": []
  }
 ],
 "metadata": {
  "kernelspec": {
   "display_name": "Python 3",
   "language": "python",
   "name": "python3"
  },
  "language_info": {
   "codemirror_mode": {
    "name": "ipython",
    "version": 3
   },
   "file_extension": ".py",
   "mimetype": "text/x-python",
   "name": "python",
   "nbconvert_exporter": "python",
   "pygments_lexer": "ipython3",
   "version": "3.7.1"
  }
 },
 "nbformat": 4,
 "nbformat_minor": 2
}
